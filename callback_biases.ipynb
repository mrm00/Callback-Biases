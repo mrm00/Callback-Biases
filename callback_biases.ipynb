{
 "cells": [
  {
   "cell_type": "markdown",
   "metadata": {},
   "source": [
    "# Examining Racial Discrimination in the US Job Market\n",
    "\n",
    "### Background\n",
    "Racial discrimination continues to be pervasive in cultures throughout the world. Researchers examined the level of racial discrimination in the United States labor market by randomly assigning identical résumés to black-sounding or white-sounding names and observing the impact on requests for interviews from employers.\n",
    "\n",
    "### Data\n",
    "In the dataset provided, each row represents a resume. The 'race' column has two values, 'b' and 'w', indicating black-sounding and white-sounding. The column 'call' has two values, 1 and 0, indicating whether the resume received a call from employers or not.\n",
    "\n",
    "Note that the 'b' and 'w' values in race are assigned randomly to the resumes when presented to the employer."
   ]
  },
  {
   "cell_type": "markdown",
   "metadata": {},
   "source": [
    "### Exercises\n",
    "You will perform a statistical analysis to establish whether race has a significant impact on the rate of callbacks for resumes.\n",
    "\n",
    "Answer the following questions **in this notebook below and submit to your Github account**. \n",
    "\n",
    "   1. What test is appropriate for this problem? Does CLT apply?\n",
    "   2. What are the null and alternate hypotheses?\n",
    "   3. Compute margin of error, confidence interval, and p-value. Try using both the bootstrapping and the frequentist statistical approaches.\n",
    "   4. Write a story describing the statistical significance in the context of the original problem.\n",
    "   5. Does your analysis mean that race/name is the most important factor in callback success? Why or why not? If not, how would you amend your analysis?\n",
    "\n",
    "You can include written notes in notebook cells using Markdown: \n",
    "   - In the control panel at the top, choose Cell > Cell Type > Markdown\n",
    "   - Markdown syntax: http://nestacms.com/docs/creating-content/markdown-cheat-sheet\n",
    "\n",
    "#### Resources\n",
    "+ Experiment information and data source: http://www.povertyactionlab.org/evaluation/discrimination-job-market-united-states\n",
    "+ Scipy statistical methods: http://docs.scipy.org/doc/scipy/reference/stats.html \n",
    "+ Markdown syntax: http://nestacms.com/docs/creating-content/markdown-cheat-sheet\n",
    "+ Formulas for the Bernoulli distribution: https://en.wikipedia.org/wiki/Bernoulli_distribution"
   ]
  },
  {
   "cell_type": "code",
   "execution_count": 9,
   "metadata": {},
   "outputs": [],
   "source": [
    "import pandas as pd\n",
    "import numpy as np\n",
    "from scipy import stats"
   ]
  },
  {
   "cell_type": "code",
   "execution_count": 10,
   "metadata": {},
   "outputs": [],
   "source": [
    "data = pd.io.stata.read_stata('data/us_job_market_discrimination.dta')"
   ]
  },
  {
   "cell_type": "code",
   "execution_count": 11,
   "metadata": {},
   "outputs": [
    {
     "data": {
      "text/plain": [
       "235.0"
      ]
     },
     "execution_count": 11,
     "metadata": {},
     "output_type": "execute_result"
    }
   ],
   "source": [
    "# number of callbacks for white-sounding names\n",
    "sum(data[data.race=='w'].call)"
   ]
  },
  {
   "cell_type": "code",
   "execution_count": 12,
   "metadata": {},
   "outputs": [
    {
     "data": {
      "text/plain": [
       "157.0"
      ]
     },
     "execution_count": 12,
     "metadata": {},
     "output_type": "execute_result"
    }
   ],
   "source": [
    "#number of callbacks for black-sounding names\n",
    "sum(data[data.race=='b'].call)"
   ]
  },
  {
   "cell_type": "code",
   "execution_count": 13,
   "metadata": {},
   "outputs": [],
   "source": [
    "b = data[data.race=='b'].call\n",
    "w = data[data.race=='w'].call"
   ]
  },
  {
   "cell_type": "markdown",
   "metadata": {},
   "source": [
    "<div class=\"span5 alert alert-success\">\n",
    "<p> This analysis will use a **two-proportion z test** hypothesis test to compare the callbacks and no-callbacks of both white-sounding-name applicants and black-sounding-name applicants. CLT applies here as the two samples are viewed as independent random variables. Let us define the proportion of black-sounding names that got a callback (1) as p1 and the proportion of white-sounding names that got a callback p2. <br><br>\n",
    "\n",
    "**Null hypothesis:** p1=p2 <br> <br>\n",
    "**Alternative Hypothesis:** p1 != p2 </p>\n",
    "</div>"
   ]
  },
  {
   "cell_type": "markdown",
   "metadata": {},
   "source": [
    "The entire scope of a two-proportion z-test procedure can be found at https://stattrek.com/hypothesis-test/difference-in-proportions.aspx"
   ]
  },
  {
   "cell_type": "markdown",
   "metadata": {},
   "source": [
    "## Frequentist Approach"
   ]
  },
  {
   "cell_type": "code",
   "execution_count": 14,
   "metadata": {},
   "outputs": [],
   "source": [
    "n2= w.count()\n",
    "p2= w.sum()/n2"
   ]
  },
  {
   "cell_type": "code",
   "execution_count": 15,
   "metadata": {},
   "outputs": [],
   "source": [
    "n1=b.count()\n",
    "p1= b.sum()/n1"
   ]
  },
  {
   "cell_type": "code",
   "execution_count": 16,
   "metadata": {},
   "outputs": [
    {
     "name": "stdout",
     "output_type": "stream",
     "text": [
      "P-value:  3.983886837585077e-05\n"
     ]
    }
   ],
   "source": [
    "p= (p1*n1+p2*n2)/(n1+n2)\n",
    "SE= np.sqrt(p*(1-p)*((1/n1)+(1/n2)))\n",
    "z= (p1-p2)/SE\n",
    "p_value= stats.norm.sf(abs(z))\n",
    "p_value_2tail= p_value*2\n",
    "print(\"P-value: \", p_value_2tail)"
   ]
  },
  {
   "cell_type": "code",
   "execution_count": 17,
   "metadata": {},
   "outputs": [
    {
     "name": "stdout",
     "output_type": "stream",
     "text": [
      "Margin of Error (at 95% confidence) for callbacks of black-sounding named applicants: 0.009755158027911414\n",
      "95% Confidence Interval (black-sounding names): [0.05472123 0.07423154]\n",
      "Margin of Error (at 95% confidence) for callbacks of white-sounding named applicants: 0.011728781469131009\n",
      "95% Confidence Interval (white-sounding names): [0.08478046 0.10823802]\n"
     ]
    }
   ],
   "source": [
    "#compute margin of error for both sets of data \n",
    "SE_b= np.sqrt((p1*(1-p1))/n1)\n",
    "SE_w= np.sqrt((p2*(1-p2))/n2)\n",
    "MoE_b=1.96*SE_b\n",
    "MoE_w= 1.96*SE_w\n",
    "print(\"Margin of Error (at 95% confidence) for callbacks of black-sounding named applicants:\", MoE_b)\n",
    "print(\"95% Confidence Interval (black-sounding names):\", np.array([p1-MoE_b,p1+MoE_b]))\n",
    "print(\"Margin of Error (at 95% confidence) for callbacks of white-sounding named applicants:\", MoE_w)\n",
    "print(\"95% Confidence Interval (white-sounding names):\", np.array([p2-MoE_w,p2+MoE_w]))"
   ]
  },
  {
   "cell_type": "markdown",
   "metadata": {},
   "source": [
    "<div class=\"span5 alert alert-success\">\n",
    "<h4> Frequentist Test summary of results </h4>\n",
    "<p> \n",
    "p-value: 3.984 x 10^-5 <br>\n",
    "Margin of Error (at 95% confidence) for callbacks of black-sounding named applicants: 0.00976 <br> \n",
    "95% Confidence Interval (black-sounding names): 0.0547 - 0.0742 <br>\n",
    "Margin of Error (at 95% confidence) for callbacks of white-sounding named applicants: 0.01173 <br> \n",
    "95% Confidence Interval (white-sounding names): 0.0848 - 0.108 <br>\n",
    "</p>\n",
    "</div>"
   ]
  },
  {
   "cell_type": "markdown",
   "metadata": {},
   "source": [
    "## Bootstrap Approach"
   ]
  },
  {
   "cell_type": "markdown",
   "metadata": {},
   "source": [
    "First, we construct functions that will bootstrap our data and return a 95% confidence interval."
   ]
  },
  {
   "cell_type": "code",
   "execution_count": 18,
   "metadata": {},
   "outputs": [],
   "source": [
    "def bootstrap_replicate_1d(data, func):\n",
    "    return func(np.random.choice(data, size=len(data)))\n",
    "def draw_bs_reps(data, func, size=1):\n",
    "    \"\"\"Draw bootstrap replicates.\"\"\"\n",
    "\n",
    "    # Initialize array of replicates: bs_replicates\n",
    "    bs_replicates = np.empty(size)\n",
    "\n",
    "    # Generate replicates\n",
    "    for i in range(size):\n",
    "        bs_replicates[i] = bootstrap_replicate_1d(data,func)\n",
    "\n",
    "    return bs_replicates"
   ]
  },
  {
   "cell_type": "code",
   "execution_count": 19,
   "metadata": {},
   "outputs": [],
   "source": [
    "def ci_95(data):\n",
    "    ran= np.random.choice(data,10000)\n",
    "    bs= draw_bs_reps(ran, np.sum, 10000)\n",
    "    bs_prop= bs/len(bs)\n",
    "    return np.percentile(bs_prop, [2.5,97.5])\n",
    "    "
   ]
  },
  {
   "cell_type": "markdown",
   "metadata": {},
   "source": [
    "Proceed to calculate 2-sample bootstrap hypothesis for difference of proportions. We first calculate the empirical difference of proportions between the samples to use as a reference point in our bootstrapping analysis.\n",
    "\n",
    "Under the null hypothesis, we assume that **p1=p2** so we shift our two samples (black and white sounding named applicants) to have the same proportion of callbacks. Then we bootstrap our samples and calculate the difference between their respective proportions and compare each difference to the empirical difference (perviously calculated). The proportions of these differences that are greater than the empirical difference gives us our p-value."
   ]
  },
  {
   "cell_type": "code",
   "execution_count": 20,
   "metadata": {},
   "outputs": [],
   "source": [
    "diff=p2-p1"
   ]
  },
  {
   "cell_type": "code",
   "execution_count": 21,
   "metadata": {},
   "outputs": [],
   "source": [
    "avg= (p1+p2)/2"
   ]
  },
  {
   "cell_type": "code",
   "execution_count": 22,
   "metadata": {},
   "outputs": [],
   "source": [
    "b_shift= int(round(avg*n1))\n",
    "b_shifted= np.array([1]*b_shift+[0]*(n1-b_shift))\n",
    "w_shift= int(round(avg*n2))\n",
    "w_shifted= np.array([1]*w_shift+[0]*(n1-w_shift))"
   ]
  },
  {
   "cell_type": "code",
   "execution_count": 23,
   "metadata": {},
   "outputs": [],
   "source": [
    "bs_b= draw_bs_reps(b_shifted, np.sum,10000)\n",
    "bs_w= draw_bs_reps(w_shifted, np.sum,10000)"
   ]
  },
  {
   "cell_type": "code",
   "execution_count": 24,
   "metadata": {},
   "outputs": [
    {
     "name": "stdout",
     "output_type": "stream",
     "text": [
      "p-value (diff > .032):  0.0\n",
      "p-value (diff < -.032):  0.0\n"
     ]
    }
   ],
   "source": [
    "bs= (bs_b/len(bs_b))-(bs_w/(len(bs_w)))\n",
    "bs_p_value1= np.sum(bs > diff)/len(bs)\n",
    "print(\"p-value (diff > .032): \", bs_p_value1)\n",
    "bs_p_value2= np.sum(bs < (-diff))/len(bs)\n",
    "print(\"p-value (diff < -.032): \", bs_p_value2)"
   ]
  },
  {
   "cell_type": "code",
   "execution_count": 25,
   "metadata": {},
   "outputs": [
    {
     "name": "stdout",
     "output_type": "stream",
     "text": [
      "95% Confidence Interval (black-sounding names):  [0.0524 0.0616]\n",
      "95% Confidence Interval (white-sounding names):  [0.0857975 0.097    ]\n"
     ]
    }
   ],
   "source": [
    "print(\"95% Confidence Interval (black-sounding names): \", ci_95(b))\n",
    "print(\"95% Confidence Interval (white-sounding names): \", ci_95(w))"
   ]
  },
  {
   "cell_type": "markdown",
   "metadata": {},
   "source": [
    "<div class=\"span5 alert alert-success\">\n",
    "<h4> Bootstrap Approach summary of results </h4>\n",
    "<p> \n",
    "p-value: 0.0 <br>\n",
    "95% Confidence Interval (black-sounding names): 0.0582 - 0.0677 <br>\n",
    "95% Confidence Interval (white-sounding names): 0.0941 - 0.1058 <br>\n",
    "</p>\n",
    "</div>"
   ]
  },
  {
   "cell_type": "markdown",
   "metadata": {},
   "source": [
    "<div class=\"span5 alert alert-success\">\n",
    "<p> The statistical tests performed above both yeilded extremely low p-values. This leads us to reject the null hypothesis, which states that the proportions of callbacks of job applicants with black and white sounding names is equal. However, there are upwards of 60 variables recorded for each applicant so we cannot say for certain that race/name is *the most* important factor when it comes to applicant callbacks. To ascertain this information, we would need to employ more in depth exploratory data analysis. Because the data is of a categorical type, we would use Chi-Square tests to reveal the biggest correlations in the variables of the data. </p>\n",
    "</div>"
   ]
  }
 ],
 "metadata": {
  "kernelspec": {
   "display_name": "Python 3",
   "language": "python",
   "name": "python3"
  },
  "language_info": {
   "codemirror_mode": {
    "name": "ipython",
    "version": 3
   },
   "file_extension": ".py",
   "mimetype": "text/x-python",
   "name": "python",
   "nbconvert_exporter": "python",
   "pygments_lexer": "ipython3",
   "version": "3.6.5"
  }
 },
 "nbformat": 4,
 "nbformat_minor": 1
}
